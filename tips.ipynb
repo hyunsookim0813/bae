

import pandas as pd
from sklearn.ensemble import RandomForestClassifier
from sklearn.model_selection import train_test_split

train = pd.read_csv("data/customer_train.csv")
test = pd.read_csv("data/customer_test.csv")

train.fillna(0)
test.fillna(0)

train = pd.get_dummies(train, drop_first=True)
test = pd.get_dummies(test, drop_first=True)

missing_cols = set(train.columns) - set(test.columns)
for col in missing_cols:
    test[col] = 0 
test = test[train.columns]  

target = train.pop('성별')
cols = train.columns

X_train, X_val, y_train, y_val = train_test_split(train, target, test_size=0.2, random_state=42)

model = RandomForestClassifier(random_state=42)
model.fit(X_train, y_train)

val_pred = model.predict(X_val)
print(f"Validation Accuracy: {model.score(X_val, y_val):.4f}")

test_pred = model.predict(test.drop(columns=['성별'], errors='ignore'))

submit = pd.DataFrame({'pred': test_pred})
submit.to_csv('result.csv', index=False)
print(submit.head())
